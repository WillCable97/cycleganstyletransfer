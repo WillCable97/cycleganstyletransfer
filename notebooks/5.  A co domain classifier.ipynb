{
 "cells": [
  {
   "cell_type": "markdown",
   "metadata": {},
   "source": [
    "## Get a simple data set object together"
   ]
  },
  {
   "cell_type": "code",
   "execution_count": 1,
   "metadata": {},
   "outputs": [],
   "source": [
    "import tensorflow as tf\n",
    "from keras.layers import Conv2D, LeakyReLU, Input, Dense, MaxPooling2D, GlobalAveragePooling2D\n",
    "from keras.models import Model\n",
    "import keras\n",
    "import matplotlib.pyplot as plt"
   ]
  },
  {
   "cell_type": "code",
   "execution_count": 2,
   "metadata": {},
   "outputs": [
    {
     "name": "stderr",
     "output_type": "stream",
     "text": [
      "\u001b[32m2025-06-06 19:36:08.677\u001b[0m | \u001b[1mINFO    \u001b[0m | \u001b[36mcycleganstyletransfer.config\u001b[0m:\u001b[36m<module>\u001b[0m:\u001b[36m11\u001b[0m - \u001b[1mPROJ_ROOT path is: C:\\Users\\willi\\Desktop\\AIPortfolio\\CycleGanV2\\cycleganstyletransfer\u001b[0m\n"
     ]
    },
    {
     "name": "stdout",
     "output_type": "stream",
     "text": [
      "Found 1193 files belonging to 1 classes.\n",
      "Using 955 files for training.\n",
      "Using 238 files for validation.\n",
      "Found 7037 files belonging to 1 classes.\n",
      "Using 5630 files for training.\n",
      "Using 1407 files for validation.\n"
     ]
    }
   ],
   "source": [
    "#Make the dataset\n",
    "from cycleganstyletransfer.config import DATA_DIR\n",
    "data_dir = DATA_DIR / \"raw\"\n",
    "\n",
    "\n",
    "my_monet_ds_train, my_monet_ds_val = tf.keras.utils.image_dataset_from_directory(\n",
    "    data_dir / \"Monet\",\n",
    "    validation_split=0.2,\n",
    "    subset=\"both\",\n",
    "    seed=42,\n",
    "    image_size=(128, 128),\n",
    "    batch_size = 1,\n",
    "    labels = None,\n",
    ")\n",
    "\n",
    "my_image_ds_train, my_image_ds_val = tf.keras.utils.image_dataset_from_directory(\n",
    "    data_dir / \"Images\",\n",
    "    validation_split=0.2,\n",
    "    subset=\"both\",\n",
    "    seed=42,\n",
    "    image_size=(128, 128),\n",
    "    batch_size = 1,\n",
    "    labels = None,\n",
    ")\n",
    "\n",
    "DATASET_HEIGHT = max(len(my_monet_ds_train), len(my_image_ds_train))\n",
    "\n",
    "my_monet_ds_train = iter(my_monet_ds_train.shuffle(42).repeat())\n",
    "my_image_ds_train = iter(my_image_ds_train.shuffle(42).repeat())"
   ]
  },
  {
   "cell_type": "markdown",
   "metadata": {},
   "source": [
    "## Put the model together"
   ]
  },
  {
   "cell_type": "code",
   "execution_count": 8,
   "metadata": {},
   "outputs": [
    {
     "name": "stdout",
     "output_type": "stream",
     "text": [
      "Model: \"discriminator\"\n",
      "_________________________________________________________________\n",
      " Layer (type)                Output Shape              Param #   \n",
      "=================================================================\n",
      " input_2 (InputLayer)        [(32, 128, 128, 3)]       0         \n",
      "                                                                 \n",
      " conv2d_4 (Conv2D)           (32, 128, 128, 32)        896       \n",
      "                                                                 \n",
      " leaky_re_lu_3 (LeakyReLU)   (32, 128, 128, 32)        0         \n",
      "                                                                 \n",
      " max_pooling2d_3 (MaxPoolin  (32, 64, 64, 32)          0         \n",
      " g2D)                                                            \n",
      "                                                                 \n",
      " conv2d_5 (Conv2D)           (32, 64, 64, 64)          18496     \n",
      "                                                                 \n",
      " leaky_re_lu_4 (LeakyReLU)   (32, 64, 64, 64)          0         \n",
      "                                                                 \n",
      " max_pooling2d_4 (MaxPoolin  (32, 32, 32, 64)          0         \n",
      " g2D)                                                            \n",
      "                                                                 \n",
      " conv2d_6 (Conv2D)           (32, 32, 32, 128)         73856     \n",
      "                                                                 \n",
      " leaky_re_lu_5 (LeakyReLU)   (32, 32, 32, 128)         0         \n",
      "                                                                 \n",
      " max_pooling2d_5 (MaxPoolin  (32, 16, 16, 128)         0         \n",
      " g2D)                                                            \n",
      "                                                                 \n",
      " conv2d_7 (Conv2D)           (32, 16, 16, 1)           1153      \n",
      "                                                                 \n",
      "=================================================================\n",
      "Total params: 94401 (368.75 KB)\n",
      "Trainable params: 94401 (368.75 KB)\n",
      "Non-trainable params: 0 (0.00 Byte)\n",
      "_________________________________________________________________\n"
     ]
    }
   ],
   "source": [
    "def build_discriminator(input_shape=(128, 128, 3)):\n",
    "    inputs = Input(shape=input_shape, batch_size=32)\n",
    "    \n",
    "    # First layer doesn't use instance normalization\n",
    "    x = Conv2D(32, 3,padding='same')(inputs)\n",
    "    x = LeakyReLU(0.2)(x)\n",
    "    x = MaxPooling2D(2)(x)\n",
    "\n",
    "    x = Conv2D(64, 3,padding='same')(x)\n",
    "    x = LeakyReLU(0.2)(x)\n",
    "    x = MaxPooling2D(2)(x)\n",
    "\n",
    "    x = Conv2D(128, 3,padding='same')(x)\n",
    "    x = LeakyReLU(0.2)(x)\n",
    "    x = MaxPooling2D(2)(x)\n",
    "\n",
    "    x = Conv2D(1, 3, padding='same')(x)\n",
    "\n",
    "    #x = Flatten()(x)\n",
    "    #x = GlobalAveragePooling2D()(x)\n",
    "    #x = Dense(1, activation='sigmoid')(x)\n",
    "    \n",
    "    return Model(inputs, x, name='discriminator')\n",
    "\n",
    "my_discriminator = build_discriminator()\n",
    "my_discriminator.summary()"
   ]
  },
  {
   "cell_type": "code",
   "execution_count": 9,
   "metadata": {},
   "outputs": [],
   "source": [
    "def my_square_loss(y_true, y_pred):\n",
    "    y_true = tf.reshape(tf.cast(y_true, tf.float32), (-1, 1, 1, 1))\n",
    "    y_true = tf.broadcast_to(y_true, tf.shape(y_pred))\n",
    "    return tf.reduce_mean(tf.math.squared_difference(y_true, y_pred))\n"
   ]
  },
  {
   "cell_type": "code",
   "execution_count": 10,
   "metadata": {},
   "outputs": [
    {
     "name": "stdout",
     "output_type": "stream",
     "text": [
      "\n",
      "Epoch 1/3\n",
      "Step 1876/1876 - loss: 0.7772\n",
      "Epoch 1 completed in 593s - avg loss: 3.5344\n",
      "\n",
      "Epoch 2/3\n",
      "Step 1876/1876 - loss: 0.2544\n",
      "Epoch 2 completed in 1242s - avg loss: 0.3748\n",
      "\n",
      "Epoch 3/3\n",
      "Step 1876/1876 - loss: 0.3069\n",
      "Epoch 3 completed in 897s - avg loss: 0.2441\n"
     ]
    },
    {
     "data": {
      "image/png": "[encoded data removed]",
      "text/plain": [
       "<Figure size 1000x500 with 1 Axes>"
      ]
     },
     "metadata": {},
     "output_type": "display_data"
    }
   ],
   "source": [
    "from keras.optimizers import Adam\n",
    "import numpy as np\n",
    "import time\n",
    "\n",
    "NUM_EPOCHS = 3\n",
    "EPOCH_LENGTH = DATASET_HEIGHT // 3\n",
    "DISPLAY_INTERVAL = 5  # record loss every 5 steps\n",
    "\n",
    "my_optimiser = Adam(learning_rate=0.0002, beta_1=0.5)\n",
    "\n",
    "all_losses = []\n",
    "\n",
    "for i in range(NUM_EPOCHS):\n",
    "    print(f\"\\nEpoch {i + 1}/{NUM_EPOCHS}\")\n",
    "    epoch_losses = []\n",
    "    start_time = time.time()\n",
    "\n",
    "    for j in range(EPOCH_LENGTH):\n",
    "        monet_image = (next(my_monet_ds_train)) \n",
    "        real_image = (next(my_image_ds_train))\n",
    "\n",
    "        with tf.GradientTape() as tape:\n",
    "            monet_output = my_discriminator(monet_image)\n",
    "            image_output = my_discriminator(real_image)\n",
    "\n",
    "            loss = 0.5 * (\n",
    "                my_square_loss(tf.constant(1.0), monet_output) +\n",
    "                my_square_loss(tf.constant(0.0), image_output)\n",
    "            )\n",
    "\n",
    "        grads = tape.gradient(loss, my_discriminator.trainable_variables)\n",
    "        my_optimiser.apply_gradients(zip(grads, my_discriminator.trainable_variables))\n",
    "\n",
    "        if j % DISPLAY_INTERVAL == 0:\n",
    "            epoch_losses.append(tf.squeeze(loss).numpy())\n",
    "        print(f\"\\rStep {j + 1}/{EPOCH_LENGTH} - loss: {epoch_losses[-1]:.4f}\", end='')\n",
    "\n",
    "    epoch_avg_loss = np.mean(epoch_losses)\n",
    "    print(f\"\\nEpoch {i + 1} completed in {int(time.time() - start_time)}s - avg loss: {epoch_avg_loss:.4f}\")\n",
    "    all_losses.extend(epoch_losses)\n",
    "\n",
    "# Plot full training loss curve\n",
    "plt.figure(figsize=(10, 5))\n",
    "plt.plot(all_losses)\n",
    "plt.title('Discriminator Loss Over Training')\n",
    "plt.xlabel(f'Steps (every {DISPLAY_INTERVAL} batches)')\n",
    "plt.ylabel('Loss')\n",
    "plt.grid(True)\n",
    "plt.show()"
   ]
  },
  {
   "cell_type": "code",
   "execution_count": null,
   "metadata": {},
   "outputs": [],
   "source": []
  },
  {
   "cell_type": "code",
   "execution_count": null,
   "metadata": {},
   "outputs": [],
   "source": []
  }
 ],
 "metadata": {
  "kernelspec": {
   "display_name": "tf310",
   "language": "python",
   "name": "python3"
  },
  "language_info": {
   "codemirror_mode": {
    "name": "ipython",
    "version": 3
   },
   "file_extension": ".py",
   "mimetype": "text/x-python",
   "name": "python",
   "nbconvert_exporter": "python",
   "pygments_lexer": "ipython3",
   "version": "3.10.16"
  }
 },
 "nbformat": 4,
 "nbformat_minor": 2
}
