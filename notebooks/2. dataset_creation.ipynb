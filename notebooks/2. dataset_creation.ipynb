{
 "cells": [
  {
   "cell_type": "code",
   "execution_count": 3,
   "metadata": {},
   "outputs": [
    {
     "name": "stderr",
     "output_type": "stream",
     "text": [
      "\u001b[32m2025-06-04 18:32:44.604\u001b[0m | \u001b[1mINFO    \u001b[0m | \u001b[36mcycleganstyletransfer.config\u001b[0m:\u001b[36m<module>\u001b[0m:\u001b[36m11\u001b[0m - \u001b[1mPROJ_ROOT path is: C:\\Users\\willi\\Desktop\\AIPortfolio\\CycleGanV2\\cycleganstyletransfer\u001b[0m\n"
     ]
    }
   ],
   "source": [
    "import matplotlib.pyplot as plt\n",
    "import tensorflow as tf\n",
    "from cycleganstyletransfer.config import DATA_DIR"
   ]
  },
  {
   "cell_type": "code",
   "execution_count": 4,
   "metadata": {},
   "outputs": [],
   "source": [
    "data_dir = DATA_DIR / \"raw\""
   ]
  },
  {
   "cell_type": "code",
   "execution_count": 5,
   "metadata": {},
   "outputs": [
    {
     "name": "stdout",
     "output_type": "stream",
     "text": [
      "Total number of files in C:\\Users\\willi\\Desktop\\AIPortfolio\\CycleGanV2\\cycleganstyletransfer\\data\\raw: 8232\n",
      "Files in Images: 7037\n",
      "Files in Monet: 1193\n"
     ]
    }
   ],
   "source": [
    "# Get number of files in data directory\n",
    "num_files = len(list(data_dir.glob('**/*')))\n",
    "print(f\"Total number of files in {data_dir}: {num_files}\")\n",
    "\n",
    "# Break down by subdirectory\n",
    "for subdir in data_dir.iterdir():\n",
    "    if subdir.is_dir():\n",
    "        subdir_files = len(list(subdir.glob('*')))\n",
    "        print(f\"Files in {subdir.name}: {subdir_files}\")\n"
   ]
  },
  {
   "cell_type": "code",
   "execution_count": 6,
   "metadata": {},
   "outputs": [],
   "source": [
    "BATCH_SIZE = 1\n",
    "IMG_HEIGHT = 256\n",
    "IMG_WIDTH = 256"
   ]
  },
  {
   "cell_type": "code",
   "execution_count": 7,
   "metadata": {},
   "outputs": [
    {
     "name": "stdout",
     "output_type": "stream",
     "text": [
      "Found 1193 files belonging to 1 classes.\n",
      "Using 955 files for training.\n",
      "Found 7037 files belonging to 1 classes.\n",
      "Using 5630 files for training.\n",
      "Number of Monet images: 1193\n",
      "Number of regular images: 7037\n"
     ]
    }
   ],
   "source": [
    "# Create separate datasets for each domain\n",
    "monet_ds = tf.keras.utils.image_dataset_from_directory(\n",
    "    data_dir / \"Monet\",\n",
    "    validation_split=0.2,\n",
    "    subset=\"training\",\n",
    "    seed=42,\n",
    "    image_size=(IMG_HEIGHT, IMG_WIDTH),\n",
    "    batch_size=BATCH_SIZE,\n",
    "    label_mode=None\n",
    ")\n",
    "\n",
    "images_ds = tf.keras.utils.image_dataset_from_directory(\n",
    "    data_dir / \"Images\" ,\n",
    "    validation_split=0.2,\n",
    "    subset=\"training\",\n",
    "    seed=42,\n",
    "    image_size=(IMG_HEIGHT, IMG_WIDTH),\n",
    "    batch_size=BATCH_SIZE,\n",
    "    label_mode=None\n",
    ")\n",
    "\n",
    "# Print dataset sizes\n",
    "print(f\"Number of Monet images: {len(list(data_dir.glob('Monet/*')))}\")\n",
    "print(f\"Number of regular images: {len(list(data_dir.glob('Images/*')))}\")"
   ]
  },
  {
   "cell_type": "code",
   "execution_count": null,
   "metadata": {},
   "outputs": [],
   "source": []
  },
  {
   "cell_type": "code",
   "execution_count": null,
   "metadata": {},
   "outputs": [],
   "source": []
  },
  {
   "cell_type": "code",
   "execution_count": null,
   "metadata": {},
   "outputs": [],
   "source": []
  },
  {
   "cell_type": "code",
   "execution_count": null,
   "metadata": {},
   "outputs": [],
   "source": []
  },
  {
   "cell_type": "code",
   "execution_count": null,
   "metadata": {},
   "outputs": [],
   "source": []
  },
  {
   "cell_type": "code",
   "execution_count": null,
   "metadata": {},
   "outputs": [],
   "source": [
    "# Apply preprocessing to both datasets\n",
    "monet_ds = monet_ds.map(\n",
    "    preprocess_image_train, \n",
    "    num_parallel_calls=tf.data.AUTOTUNE\n",
    ").cache().shuffle(1000).repeat()\n",
    "\n",
    "images_ds = images_ds.map(\n",
    "    preprocess_image_train, \n",
    "    num_parallel_calls=tf.data.AUTOTUNE\n",
    ").cache().shuffle(1000).repeat()\n",
    "\n",
    "# Create iterators for training\n",
    "monet_iterator = iter(monet_ds)\n",
    "images_iterator = iter(images_ds)"
   ]
  },
  {
   "cell_type": "code",
   "execution_count": null,
   "metadata": {},
   "outputs": [],
   "source": []
  },
  {
   "cell_type": "code",
   "execution_count": null,
   "metadata": {},
   "outputs": [],
   "source": []
  },
  {
   "cell_type": "code",
   "execution_count": null,
   "metadata": {},
   "outputs": [],
   "source": []
  },
  {
   "cell_type": "code",
   "execution_count": null,
   "metadata": {},
   "outputs": [],
   "source": []
  },
  {
   "cell_type": "code",
   "execution_count": 7,
   "metadata": {},
   "outputs": [
    {
     "name": "stdout",
     "output_type": "stream",
     "text": [
      "Found 8230 files belonging to 2 classes.\n",
      "Using 6584 files for training.\n"
     ]
    }
   ],
   "source": [
    "import tensorflow as tf\n",
    "\n",
    "\n",
    "\n",
    "train_ds = tf.keras.utils.image_dataset_from_directory(\n",
    "    data_dir,\n",
    "    validation_split=0.2,\n",
    "    subset=\"training\",\n",
    "    seed=42,\n",
    "    image_size=(IMG_HEIGHT, IMG_WIDTH),\n",
    "    batch_size=BATCH_SIZE\n",
    ")"
   ]
  },
  {
   "cell_type": "code",
   "execution_count": 9,
   "metadata": {},
   "outputs": [
    {
     "name": "stdout",
     "output_type": "stream",
     "text": [
      "Total number of files in C:\\Users\\willi\\Desktop\\AIPortfolio\\CycleGanV2\\cycleganstyletransfer\\data\\raw: 8232\n",
      "Files in Images: 7037\n",
      "Files in Monet: 1193\n"
     ]
    }
   ],
   "source": []
  },
  {
   "cell_type": "code",
   "execution_count": null,
   "metadata": {},
   "outputs": [],
   "source": []
  }
 ],
 "metadata": {
  "kernelspec": {
   "display_name": "tf310",
   "language": "python",
   "name": "python3"
  },
  "language_info": {
   "codemirror_mode": {
    "name": "ipython",
    "version": 3
   },
   "file_extension": ".py",
   "mimetype": "text/x-python",
   "name": "python",
   "nbconvert_exporter": "python",
   "pygments_lexer": "ipython3",
   "version": "3.10.16"
  }
 },
 "nbformat": 4,
 "nbformat_minor": 2
}
