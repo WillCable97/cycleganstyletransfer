{
 "cells": [
  {
   "cell_type": "markdown",
   "metadata": {},
   "source": [
    "## Get a simple data set object together"
   ]
  },
  {
   "cell_type": "code",
   "execution_count": 1,
   "metadata": {},
   "outputs": [],
   "source": [
    "import tensorflow as tf\n",
    "import matplotlib.pyplot as plt\n",
    "from keras.layers import Conv2D, LeakyReLU, Input, Dense, Flatten\n",
    "from keras.models import Model"
   ]
  },
  {
   "cell_type": "code",
   "execution_count": 2,
   "metadata": {},
   "outputs": [
    {
     "name": "stderr",
     "output_type": "stream",
     "text": [
      "\u001b[32m2025-06-05 19:30:48.674\u001b[0m | \u001b[1mINFO    \u001b[0m | \u001b[36mcycleganstyletransfer.config\u001b[0m:\u001b[36m<module>\u001b[0m:\u001b[36m11\u001b[0m - \u001b[1mPROJ_ROOT path is: C:\\Users\\willi\\Desktop\\AIPortfolio\\CycleGanV2\\cycleganstyletransfer\u001b[0m\n"
     ]
    },
    {
     "name": "stdout",
     "output_type": "stream",
     "text": [
      "Found 1193 files belonging to 1 classes.\n",
      "Using 955 files for training.\n",
      "Found 7037 files belonging to 1 classes.\n",
      "Using 5630 files for training.\n"
     ]
    }
   ],
   "source": [
    "#Make the dataset\n",
    "from cycleganstyletransfer.config import DATA_DIR\n",
    "data_dir = DATA_DIR / \"raw\"\n",
    "\n",
    "\n",
    "monet_ds = tf.keras.utils.image_dataset_from_directory(\n",
    "    data_dir / \"Monet\",\n",
    "    validation_split=0.2,\n",
    "    subset=\"training\",\n",
    "    seed=42,\n",
    "    image_size=(256, 256),\n",
    "    batch_size=1,\n",
    "    label_mode=None\n",
    ")\n",
    "\n",
    "images_ds = tf.keras.utils.image_dataset_from_directory(\n",
    "    data_dir / \"Images\" ,\n",
    "    validation_split=0.2,\n",
    "    subset=\"training\",\n",
    "    seed=42,\n",
    "    image_size=(256, 256),\n",
    "    batch_size=1,\n",
    "    label_mode=None\n",
    ")\n"
   ]
  },
  {
   "cell_type": "code",
   "execution_count": 3,
   "metadata": {},
   "outputs": [],
   "source": [
    "class MyDataObject:\n",
    "    def __init__(self, monet_data, photo_data):\n",
    "        self.monet_data = iter(monet_data.shuffle(1000).repeat())\n",
    "        self.photo_data = iter(photo_data.shuffle(1000).repeat())\n",
    "\n",
    "    def __len__(self):\n",
    "        return max(len(self.monet_data), len(self.photo_data))\n",
    "\n",
    "    def get_new(self):\n",
    "        monet_data = next(self.monet_data)\n",
    "        photo_data = next(self.photo_data)\n",
    "        return monet_data, photo_data\n"
   ]
  },
  {
   "cell_type": "code",
   "execution_count": 4,
   "metadata": {},
   "outputs": [],
   "source": [
    "my_data = MyDataObject(monet_ds, images_ds)\n"
   ]
  },
  {
   "cell_type": "markdown",
   "metadata": {},
   "source": [
    "## Put the model together"
   ]
  },
  {
   "cell_type": "code",
   "execution_count": 5,
   "metadata": {},
   "outputs": [],
   "source": [
    "def discriminator_block(x, filters, kernel_size=4, strides=2, padding='same'):\n",
    "    \"\"\"Single block of the discriminator\"\"\"\n",
    "    x = Conv2D(\n",
    "        filters=filters,\n",
    "        kernel_size=kernel_size,\n",
    "        strides=strides,\n",
    "        padding=padding\n",
    "    )(x)\n",
    "    x = LeakyReLU(0.2)(x)\n",
    "    return x"
   ]
  },
  {
   "cell_type": "code",
   "execution_count": 12,
   "metadata": {},
   "outputs": [],
   "source": [
    "def build_discriminator(input_shape=(256, 256, 3)):\n",
    "    inputs = Input(shape=input_shape)\n",
    "    \n",
    "    # First layer doesn't use instance normalization\n",
    "    x = discriminator_block(inputs, 64, strides=1)\n",
    "    print(x.shape)\n",
    "    \n",
    "    # Downsampling layers with instance normalization\n",
    "    x = discriminator_block(x, 128)\n",
    "    print(x.shape)\n",
    "    \n",
    "    x = discriminator_block(x, 256) \n",
    "    print(x.shape)\n",
    "    \n",
    "    x = discriminator_block(x, 512)\n",
    "    print(x.shape)\n",
    "    \n",
    "    # Final layer\n",
    "    x = Conv2D(\n",
    "        filters=1,\n",
    "        kernel_size=4,\n",
    "        strides=1,\n",
    "        padding='same',\n",
    "    )(x)\n",
    "\n",
    "    print(x.shape)\n",
    "\n",
    "    x = tf.keras.layers.Flatten()(x)\n",
    "    x = Dense(1, activation='sigmoid')(x)\n",
    "    \n",
    "    return Model(inputs, x, name='discriminator')"
   ]
  },
  {
   "cell_type": "code",
   "execution_count": 13,
   "metadata": {},
   "outputs": [
    {
     "name": "stdout",
     "output_type": "stream",
     "text": [
      "(None, 256, 256, 64)\n"
     ]
    },
    {
     "ename": "TypeError",
     "evalue": "'KerasTensor' object is not callable",
     "output_type": "error",
     "traceback": [
      "\u001b[1;31m---------------------------------------------------------------------------\u001b[0m",
      "\u001b[1;31mTypeError\u001b[0m                                 Traceback (most recent call last)",
      "Cell \u001b[1;32mIn[13], line 1\u001b[0m\n\u001b[1;32m----> 1\u001b[0m my_descrim \u001b[38;5;241m=\u001b[39m \u001b[43mbuild_discriminator\u001b[49m\u001b[43m(\u001b[49m\u001b[43m)\u001b[49m\n",
      "Cell \u001b[1;32mIn[12], line 9\u001b[0m, in \u001b[0;36mbuild_discriminator\u001b[1;34m(input_shape)\u001b[0m\n\u001b[0;32m      6\u001b[0m \u001b[38;5;28mprint\u001b[39m(x\u001b[38;5;241m.\u001b[39mshape)\n\u001b[0;32m      8\u001b[0m \u001b[38;5;66;03m# Downsampling layers with instance normalization\u001b[39;00m\n\u001b[1;32m----> 9\u001b[0m x \u001b[38;5;241m=\u001b[39m \u001b[43mdiscriminator_block\u001b[49m\u001b[43m(\u001b[49m\u001b[43mx\u001b[49m\u001b[43m,\u001b[49m\u001b[43m \u001b[49m\u001b[38;5;241;43m128\u001b[39;49m\u001b[43m)\u001b[49m\u001b[43m(\u001b[49m\u001b[43mx\u001b[49m\u001b[43m)\u001b[49m\n\u001b[0;32m     10\u001b[0m \u001b[38;5;28mprint\u001b[39m(x\u001b[38;5;241m.\u001b[39mshape)\n\u001b[0;32m     12\u001b[0m x \u001b[38;5;241m=\u001b[39m discriminator_block(x, \u001b[38;5;241m256\u001b[39m)(x)\n",
      "\u001b[1;31mTypeError\u001b[0m: 'KerasTensor' object is not callable"
     ]
    }
   ],
   "source": [
    "my_descrim = build_discriminator()"
   ]
  },
  {
   "cell_type": "code",
   "execution_count": null,
   "metadata": {},
   "outputs": [
    {
     "name": "stdout",
     "output_type": "stream",
     "text": [
      "(1, 1)\n",
      "tf.Tensor([[0.9997345]], shape=(1, 1), dtype=float32)\n"
     ]
    }
   ],
   "source": [
    "m_photo, i_photo = my_data.get_new()\n",
    "\n",
    "test_output = my_descrim(m_photo)\n",
    "print(test_output.shape)\n",
    "print(test_output)"
   ]
  },
  {
   "cell_type": "markdown",
   "metadata": {},
   "source": [
    "## Get a simple training loop together"
   ]
  },
  {
   "cell_type": "code",
   "execution_count": 9,
   "metadata": {},
   "outputs": [],
   "source": [
    "from keras.losses import BinaryCrossentropy\n",
    "\n",
    "my_loss = BinaryCrossentropy(from_logits=False)\n",
    "\n",
    "def discrim_loss(monet_image_output, photo_image_output):\n",
    "\n",
    "    total_loss = 0.5 * (my_loss(monet_image_output, tf.ones_like(monet_image_output)) + my_loss(photo_image_output, tf.zeros_like(photo_image_output)))\n",
    "    return total_loss   \n",
    "\n"
   ]
  },
  {
   "cell_type": "code",
   "execution_count": 10,
   "metadata": {},
   "outputs": [],
   "source": [
    "from keras.optimizers import Adam\n",
    "\n",
    "my_optimizer = Adam()\n"
   ]
  },
  {
   "cell_type": "code",
   "execution_count": null,
   "metadata": {},
   "outputs": [
    {
     "name": "stdout",
     "output_type": "stream",
     "text": [
      "Epoch 1/1\n",
      "tf.Tensor([[0.00340013]], shape=(1, 1), dtype=float32)\n",
      "tf.Tensor([[0.13147107]], shape=(1, 1), dtype=float32)\n",
      "Iteration 1/10\n",
      "Loss: 8.6545\n",
      "Accuracy on Monet images: 0.00%\n",
      "Accuracy on Photo images: 100.00%\n",
      "Total accuracy: 50.00%\n",
      "\n",
      "tf.Tensor([[0.825991]], shape=(1, 1), dtype=float32)\n",
      "tf.Tensor([[1.]], shape=(1, 1), dtype=float32)\n",
      "Iteration 2/10\n",
      "Loss: 9.0465\n",
      "Accuracy on Monet images: 100.00%\n",
      "Accuracy on Photo images: 0.00%\n",
      "Total accuracy: 50.00%\n",
      "\n",
      "tf.Tensor([[0.]], shape=(1, 1), dtype=float32)\n",
      "tf.Tensor([[1.]], shape=(1, 1), dtype=float32)\n",
      "Iteration 3/10\n",
      "Loss: 15.3791\n",
      "Accuracy on Monet images: 0.00%\n",
      "Accuracy on Photo images: 0.00%\n",
      "Total accuracy: 0.00%\n",
      "\n",
      "tf.Tensor([[1.]], shape=(1, 1), dtype=float32)\n",
      "tf.Tensor([[1.]], shape=(1, 1), dtype=float32)\n",
      "Iteration 4/10\n",
      "Loss: 7.7125\n",
      "Accuracy on Monet images: 100.00%\n",
      "Accuracy on Photo images: 0.00%\n",
      "Total accuracy: 50.00%\n",
      "\n",
      "tf.Tensor([[1.]], shape=(1, 1), dtype=float32)\n",
      "tf.Tensor([[1.]], shape=(1, 1), dtype=float32)\n",
      "Iteration 5/10\n",
      "Loss: 7.7125\n",
      "Accuracy on Monet images: 100.00%\n",
      "Accuracy on Photo images: 0.00%\n",
      "Total accuracy: 50.00%\n",
      "\n",
      "tf.Tensor([[1.]], shape=(1, 1), dtype=float32)\n",
      "tf.Tensor([[1.]], shape=(1, 1), dtype=float32)\n",
      "Iteration 6/10\n",
      "Loss: 7.7125\n",
      "Accuracy on Monet images: 100.00%\n",
      "Accuracy on Photo images: 0.00%\n",
      "Total accuracy: 50.00%\n",
      "\n",
      "tf.Tensor([[1.]], shape=(1, 1), dtype=float32)\n",
      "tf.Tensor([[1.]], shape=(1, 1), dtype=float32)\n",
      "Iteration 7/10\n",
      "Loss: 7.7125\n",
      "Accuracy on Monet images: 100.00%\n",
      "Accuracy on Photo images: 0.00%\n",
      "Total accuracy: 50.00%\n",
      "\n",
      "tf.Tensor([[1.]], shape=(1, 1), dtype=float32)\n",
      "tf.Tensor([[1.]], shape=(1, 1), dtype=float32)\n",
      "Iteration 8/10\n",
      "Loss: 7.7125\n",
      "Accuracy on Monet images: 100.00%\n",
      "Accuracy on Photo images: 0.00%\n",
      "Total accuracy: 50.00%\n",
      "\n",
      "tf.Tensor([[1.]], shape=(1, 1), dtype=float32)\n",
      "tf.Tensor([[1.]], shape=(1, 1), dtype=float32)\n",
      "Iteration 9/10\n",
      "Loss: 7.7125\n",
      "Accuracy on Monet images: 100.00%\n",
      "Accuracy on Photo images: 0.00%\n",
      "Total accuracy: 50.00%\n",
      "\n",
      "tf.Tensor([[1.]], shape=(1, 1), dtype=float32)\n",
      "tf.Tensor([[1.]], shape=(1, 1), dtype=float32)\n",
      "Iteration 10/10\n",
      "Loss: 7.7125\n",
      "Accuracy on Monet images: 100.00%\n",
      "Accuracy on Photo images: 0.00%\n",
      "Total accuracy: 50.00%\n",
      "\n"
     ]
    }
   ],
   "source": [
    "EPOCHS = 1\n",
    "EPOCH_LENGTH = 10\n",
    "\n",
    "for epoch in range(EPOCHS):\n",
    "    print(f\"Epoch {epoch+1}/{EPOCHS}\")\n",
    "    for iteration in range(EPOCH_LENGTH):\n",
    "        m_photo, i_photo = my_data.get_new()\n",
    "\n",
    "        with tf.GradientTape() as tape:\n",
    "            monet_output = my_descrim(m_photo)\n",
    "            photo_output = my_descrim(i_photo)\n",
    "            print(monet_output)\n",
    "            print(photo_output)\n",
    "\n",
    "            loss = discrim_loss(monet_output, photo_output)\n",
    "\n",
    "        grads = tape.gradient(loss, my_descrim.trainable_variables)\n",
    "        my_optimizer.apply_gradients(zip(grads, my_descrim.trainable_variables))\n",
    "    \n",
    "        # Calculate accuracy\n",
    "        monet_accuracy = tf.reduce_mean(tf.cast(monet_output > 0.5, tf.float32))\n",
    "        photo_accuracy = tf.reduce_mean(tf.cast(photo_output < 0.5, tf.float32))\n",
    "        total_accuracy = 0.5 * (monet_accuracy + photo_accuracy)\n",
    "\n",
    "        print(f\"Iteration {iteration+1}/{EPOCH_LENGTH}\")\n",
    "        print(f\"Loss: {loss:.4f}\")\n",
    "        print(f\"Accuracy on Monet images: {monet_accuracy:.2%}\")\n",
    "        print(f\"Accuracy on Photo images: {photo_accuracy:.2%}\")\n",
    "        print(f\"Total accuracy: {total_accuracy:.2%}\\n\")\n",
    "\n",
    "#print(my_descrim.summary())"
   ]
  },
  {
   "cell_type": "code",
   "execution_count": null,
   "metadata": {},
   "outputs": [],
   "source": []
  },
  {
   "cell_type": "code",
   "execution_count": null,
   "metadata": {},
   "outputs": [],
   "source": []
  },
  {
   "cell_type": "code",
   "execution_count": null,
   "metadata": {},
   "outputs": [],
   "source": []
  },
  {
   "cell_type": "code",
   "execution_count": null,
   "metadata": {},
   "outputs": [],
   "source": []
  }
 ],
 "metadata": {
  "kernelspec": {
   "display_name": "tf310",
   "language": "python",
   "name": "python3"
  },
  "language_info": {
   "codemirror_mode": {
    "name": "ipython",
    "version": 3
   },
   "file_extension": ".py",
   "mimetype": "text/x-python",
   "name": "python",
   "nbconvert_exporter": "python",
   "pygments_lexer": "ipython3",
   "version": "3.10.16"
  }
 },
 "nbformat": 4,
 "nbformat_minor": 2
}
