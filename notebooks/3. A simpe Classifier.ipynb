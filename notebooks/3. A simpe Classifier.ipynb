{
 "cells": [
  {
   "cell_type": "markdown",
   "metadata": {},
   "source": [
    "## Get a simple data set object together"
   ]
  },
  {
   "cell_type": "code",
   "execution_count": 4,
   "metadata": {},
   "outputs": [],
   "source": [
    "import tensorflow as tf\n",
    "from keras.layers import Conv2D, LeakyReLU, Input, Dense, Flatten\n",
    "from keras.models import Model"
   ]
  },
  {
   "cell_type": "code",
   "execution_count": null,
   "metadata": {},
   "outputs": [
    {
     "name": "stdout",
     "output_type": "stream",
     "text": [
      "Found 8230 files belonging to 2 classes.\n",
      "Using 6584 files for training.\n",
      "['Images', 'Monet']\n"
     ]
    }
   ],
   "source": [
    "#Make the dataset\n",
    "from cycleganstyletransfer.config import DATA_DIR\n",
    "data_dir = DATA_DIR / \"raw\"\n",
    "\n",
    "\n",
    "my_ds = tf.keras.utils.image_dataset_from_directory(\n",
    "    data_dir,\n",
    "    validation_split=0.2,\n",
    "    subset=\"training\",\n",
    "    seed=42,\n",
    "    image_size=(256, 256),\n",
    "    batch_size=1,\n",
    ")\n",
    "\n",
    "print(my_ds.class_names)"
   ]
  },
  {
   "cell_type": "code",
   "execution_count": 3,
   "metadata": {},
   "outputs": [],
   "source": [
    "class MyDataObject:\n",
    "    def __init__(self, monet_data, photo_data):\n",
    "        self.monet_data = iter(monet_data.shuffle(1000).repeat())\n",
    "        self.photo_data = iter(photo_data.shuffle(1000).repeat())\n",
    "\n",
    "    def __len__(self):\n",
    "        return max(len(self.monet_data), len(self.photo_data))\n",
    "\n",
    "    def get_new(self):\n",
    "        monet_data = next(self.monet_data)\n",
    "        photo_data = next(self.photo_data)\n",
    "        return monet_data, photo_data\n"
   ]
  },
  {
   "cell_type": "code",
   "execution_count": 4,
   "metadata": {},
   "outputs": [],
   "source": [
    "my_data = MyDataObject(monet_ds, images_ds)\n"
   ]
  },
  {
   "cell_type": "markdown",
   "metadata": {},
   "source": [
    "## Put the model together"
   ]
  },
  {
   "cell_type": "code",
   "execution_count": 5,
   "metadata": {},
   "outputs": [],
   "source": [
    "def discriminator_block(x, filters, kernel_size=4, strides=2, padding='same'):\n",
    "    \"\"\"Single block of the discriminator\"\"\"\n",
    "    x = Conv2D(\n",
    "        filters=filters,\n",
    "        kernel_size=kernel_size,\n",
    "        strides=strides,\n",
    "        padding=padding\n",
    "    )(x)\n",
    "    x = LeakyReLU(0.2)(x)\n",
    "    return x"
   ]
  },
  {
   "cell_type": "code",
   "execution_count": 11,
   "metadata": {},
   "outputs": [],
   "source": [
    "def build_discriminator(input_shape=(256, 256, 3)):\n",
    "    inputs = Input(shape=input_shape)\n",
    "    \n",
    "    # First layer doesn't use instance normalization\n",
    "    x = discriminator_block(inputs, 64, strides=1)\n",
    "    print(x.shape)\n",
    "    \n",
    "    # Downsampling layers with instance normalization\n",
    "    x = discriminator_block(x, 128)\n",
    "    print(x.shape)\n",
    "    \n",
    "    x = discriminator_block(x, 256) \n",
    "    print(x.shape)\n",
    "    \n",
    "    x = discriminator_block(x, 512)\n",
    "    print(x.shape)\n",
    "    \n",
    "    # Final layer\n",
    "    x = Conv2D(\n",
    "        filters=1,\n",
    "        kernel_size=4,\n",
    "        strides=1,\n",
    "        padding='same',\n",
    "    )(x)\n",
    "\n",
    "    print(x.shape)\n",
    "\n",
    "    x = tf.keras.layers.Flatten()(x)\n",
    "    x = Dense(1, activation='sigmoid')(x)\n",
    "    \n",
    "    return Model(inputs, x, name='discriminator')"
   ]
  },
  {
   "cell_type": "code",
   "execution_count": null,
   "metadata": {},
   "outputs": [],
   "source": []
  },
  {
   "cell_type": "code",
   "execution_count": null,
   "metadata": {},
   "outputs": [],
   "source": []
  },
  {
   "cell_type": "code",
   "execution_count": null,
   "metadata": {},
   "outputs": [],
   "source": []
  },
  {
   "cell_type": "code",
   "execution_count": null,
   "metadata": {},
   "outputs": [],
   "source": []
  },
  {
   "cell_type": "code",
   "execution_count": null,
   "metadata": {},
   "outputs": [],
   "source": []
  },
  {
   "cell_type": "code",
   "execution_count": null,
   "metadata": {},
   "outputs": [],
   "source": []
  },
  {
   "cell_type": "code",
   "execution_count": null,
   "metadata": {},
   "outputs": [],
   "source": []
  },
  {
   "cell_type": "code",
   "execution_count": null,
   "metadata": {},
   "outputs": [],
   "source": []
  },
  {
   "cell_type": "code",
   "execution_count": null,
   "metadata": {},
   "outputs": [],
   "source": []
  },
  {
   "cell_type": "code",
   "execution_count": null,
   "metadata": {},
   "outputs": [],
   "source": []
  },
  {
   "cell_type": "code",
   "execution_count": null,
   "metadata": {},
   "outputs": [],
   "source": []
  },
  {
   "cell_type": "code",
   "execution_count": null,
   "metadata": {},
   "outputs": [],
   "source": []
  },
  {
   "cell_type": "code",
   "execution_count": null,
   "metadata": {},
   "outputs": [],
   "source": []
  },
  {
   "cell_type": "code",
   "execution_count": null,
   "metadata": {},
   "outputs": [],
   "source": []
  },
  {
   "cell_type": "code",
   "execution_count": null,
   "metadata": {},
   "outputs": [],
   "source": []
  },
  {
   "cell_type": "code",
   "execution_count": 12,
   "metadata": {},
   "outputs": [
    {
     "name": "stdout",
     "output_type": "stream",
     "text": [
      "(None, 256, 256, 64)\n",
      "(None, 128, 128, 128)\n",
      "(None, 64, 64, 256)\n",
      "(None, 32, 32, 512)\n",
      "(None, 32, 32, 1)\n"
     ]
    }
   ],
   "source": [
    "my_descrim = build_discriminator()"
   ]
  },
  {
   "cell_type": "code",
   "execution_count": 15,
   "metadata": {},
   "outputs": [
    {
     "name": "stdout",
     "output_type": "stream",
     "text": [
      "(1, 1)\n",
      "tf.Tensor([[0.97778535]], shape=(1, 1), dtype=float32)\n"
     ]
    }
   ],
   "source": [
    "m_photo, i_photo = my_data.get_new()\n",
    "\n",
    "test_output = my_descrim(m_photo)\n",
    "print(test_output.shape)\n",
    "print(test_output)"
   ]
  },
  {
   "cell_type": "markdown",
   "metadata": {},
   "source": [
    "## Get a simple training loop together"
   ]
  },
  {
   "cell_type": "code",
   "execution_count": 22,
   "metadata": {},
   "outputs": [],
   "source": [
    "from keras.losses import BinaryCrossentropy\n",
    "\n",
    "my_loss = BinaryCrossentropy(from_logits=False)\n",
    "\n",
    "def discrim_loss(monet_image_output, photo_image_output):\n",
    "\n",
    "    total_loss = 0.5 * (my_loss(monet_image_output, tf.ones_like(monet_image_output)) + my_loss(photo_image_output, tf.zeros_like(photo_image_output)))\n",
    "    return total_loss   \n",
    "\n"
   ]
  },
  {
   "cell_type": "code",
   "execution_count": 23,
   "metadata": {},
   "outputs": [],
   "source": [
    "from keras.optimizers import Adam\n",
    "\n",
    "my_optimizer = Adam()\n"
   ]
  },
  {
   "cell_type": "code",
   "execution_count": 26,
   "metadata": {},
   "outputs": [
    {
     "name": "stdout",
     "output_type": "stream",
     "text": [
      "Epoch 1/1\n",
      "tf.Tensor([[1.]], shape=(1, 1), dtype=float32)\n",
      "tf.Tensor([[1.]], shape=(1, 1), dtype=float32)\n",
      "Iteration 1/10\n",
      "Loss: 7.7125\n",
      "Accuracy on Monet images: 100.00%\n",
      "Accuracy on Photo images: 0.00%\n",
      "Total accuracy: 50.00%\n",
      "\n",
      "tf.Tensor([[1.]], shape=(1, 1), dtype=float32)\n",
      "tf.Tensor([[1.]], shape=(1, 1), dtype=float32)\n",
      "Iteration 2/10\n",
      "Loss: 7.7125\n",
      "Accuracy on Monet images: 100.00%\n",
      "Accuracy on Photo images: 0.00%\n",
      "Total accuracy: 50.00%\n",
      "\n",
      "tf.Tensor([[1.]], shape=(1, 1), dtype=float32)\n",
      "tf.Tensor([[1.]], shape=(1, 1), dtype=float32)\n",
      "Iteration 3/10\n",
      "Loss: 7.7125\n",
      "Accuracy on Monet images: 100.00%\n",
      "Accuracy on Photo images: 0.00%\n",
      "Total accuracy: 50.00%\n",
      "\n",
      "tf.Tensor([[1.]], shape=(1, 1), dtype=float32)\n",
      "tf.Tensor([[1.]], shape=(1, 1), dtype=float32)\n",
      "Iteration 4/10\n",
      "Loss: 7.7125\n",
      "Accuracy on Monet images: 100.00%\n",
      "Accuracy on Photo images: 0.00%\n",
      "Total accuracy: 50.00%\n",
      "\n",
      "tf.Tensor([[1.]], shape=(1, 1), dtype=float32)\n",
      "tf.Tensor([[1.]], shape=(1, 1), dtype=float32)\n",
      "Iteration 5/10\n",
      "Loss: 7.7125\n",
      "Accuracy on Monet images: 100.00%\n",
      "Accuracy on Photo images: 0.00%\n",
      "Total accuracy: 50.00%\n",
      "\n",
      "tf.Tensor([[1.]], shape=(1, 1), dtype=float32)\n",
      "tf.Tensor([[1.]], shape=(1, 1), dtype=float32)\n",
      "Iteration 6/10\n",
      "Loss: 7.7125\n",
      "Accuracy on Monet images: 100.00%\n",
      "Accuracy on Photo images: 0.00%\n",
      "Total accuracy: 50.00%\n",
      "\n",
      "tf.Tensor([[1.]], shape=(1, 1), dtype=float32)\n",
      "tf.Tensor([[1.]], shape=(1, 1), dtype=float32)\n",
      "Iteration 7/10\n",
      "Loss: 7.7125\n",
      "Accuracy on Monet images: 100.00%\n",
      "Accuracy on Photo images: 0.00%\n",
      "Total accuracy: 50.00%\n",
      "\n",
      "tf.Tensor([[1.]], shape=(1, 1), dtype=float32)\n",
      "tf.Tensor([[1.]], shape=(1, 1), dtype=float32)\n",
      "Iteration 8/10\n",
      "Loss: 7.7125\n",
      "Accuracy on Monet images: 100.00%\n",
      "Accuracy on Photo images: 0.00%\n",
      "Total accuracy: 50.00%\n",
      "\n",
      "tf.Tensor([[1.]], shape=(1, 1), dtype=float32)\n",
      "tf.Tensor([[1.]], shape=(1, 1), dtype=float32)\n",
      "Iteration 9/10\n",
      "Loss: 7.7125\n",
      "Accuracy on Monet images: 100.00%\n",
      "Accuracy on Photo images: 0.00%\n",
      "Total accuracy: 50.00%\n",
      "\n",
      "tf.Tensor([[1.]], shape=(1, 1), dtype=float32)\n",
      "tf.Tensor([[1.]], shape=(1, 1), dtype=float32)\n",
      "Iteration 10/10\n",
      "Loss: 7.7125\n",
      "Accuracy on Monet images: 100.00%\n",
      "Accuracy on Photo images: 0.00%\n",
      "Total accuracy: 50.00%\n",
      "\n"
     ]
    }
   ],
   "source": [
    "EPOCHS = 1\n",
    "EPOCH_LENGTH = 10\n",
    "\n",
    "for epoch in range(EPOCHS):\n",
    "    print(f\"Epoch {epoch+1}/{EPOCHS}\")\n",
    "    for iteration in range(EPOCH_LENGTH):\n",
    "        m_photo, i_photo = my_data.get_new()\n",
    "\n",
    "        with tf.GradientTape() as tape:\n",
    "            monet_output = my_descrim(m_photo)\n",
    "            photo_output = my_descrim(i_photo)\n",
    "            print(monet_output)\n",
    "            print(photo_output)\n",
    "\n",
    "            loss = discrim_loss(monet_output, photo_output)\n",
    "\n",
    "        grads = tape.gradient(loss, my_descrim.trainable_variables)\n",
    "        my_optimizer.apply_gradients(zip(grads, my_descrim.trainable_variables))\n",
    "    \n",
    "        # Calculate accuracy\n",
    "        monet_accuracy = tf.reduce_mean(tf.cast(monet_output > 0.5, tf.float32))\n",
    "        photo_accuracy = tf.reduce_mean(tf.cast(photo_output < 0.5, tf.float32))\n",
    "        total_accuracy = 0.5 * (monet_accuracy + photo_accuracy)\n",
    "\n",
    "        print(f\"Iteration {iteration+1}/{EPOCH_LENGTH}\")\n",
    "        print(f\"Loss: {loss:.4f}\")\n",
    "        print(f\"Accuracy on Monet images: {monet_accuracy:.2%}\")\n",
    "        print(f\"Accuracy on Photo images: {photo_accuracy:.2%}\")\n",
    "        print(f\"Total accuracy: {total_accuracy:.2%}\\n\")\n",
    "\n",
    "#print(my_descrim.summary())"
   ]
  },
  {
   "cell_type": "code",
   "execution_count": null,
   "metadata": {},
   "outputs": [],
   "source": []
  },
  {
   "cell_type": "code",
   "execution_count": null,
   "metadata": {},
   "outputs": [],
   "source": []
  },
  {
   "cell_type": "code",
   "execution_count": null,
   "metadata": {},
   "outputs": [],
   "source": []
  },
  {
   "cell_type": "code",
   "execution_count": null,
   "metadata": {},
   "outputs": [],
   "source": []
  }
 ],
 "metadata": {
  "kernelspec": {
   "display_name": "tf310",
   "language": "python",
   "name": "python3"
  },
  "language_info": {
   "codemirror_mode": {
    "name": "ipython",
    "version": 3
   },
   "file_extension": ".py",
   "mimetype": "text/x-python",
   "name": "python",
   "nbconvert_exporter": "python",
   "pygments_lexer": "ipython3",
   "version": "3.10.16"
  }
 },
 "nbformat": 4,
 "nbformat_minor": 2
}
