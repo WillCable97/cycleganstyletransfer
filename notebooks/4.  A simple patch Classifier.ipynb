{
 "cells": [
  {
   "cell_type": "markdown",
   "metadata": {},
   "source": [
    "## Get a simple data set object together"
   ]
  },
  {
   "cell_type": "code",
   "execution_count": 1,
   "metadata": {},
   "outputs": [],
   "source": [
    "import tensorflow as tf\n",
    "from keras.layers import Conv2D, LeakyReLU, Input, Dense, MaxPooling2D, GlobalAveragePooling2D\n",
    "from keras.models import Model\n",
    "import keras"
   ]
  },
  {
   "cell_type": "code",
   "execution_count": 2,
   "metadata": {},
   "outputs": [
    {
     "name": "stderr",
     "output_type": "stream",
     "text": [
      "\u001b[32m2025-06-06 16:24:08.022\u001b[0m | \u001b[1mINFO    \u001b[0m | \u001b[36mcycleganstyletransfer.config\u001b[0m:\u001b[36m<module>\u001b[0m:\u001b[36m11\u001b[0m - \u001b[1mPROJ_ROOT path is: C:\\Users\\willi\\Desktop\\AIPortfolio\\CycleGanV2\\cycleganstyletransfer\u001b[0m\n"
     ]
    },
    {
     "name": "stdout",
     "output_type": "stream",
     "text": [
      "Found 8230 files belonging to 2 classes.\n",
      "Using 6584 files for training.\n",
      "Using 1646 files for validation.\n",
      "['Images', 'Monet']\n",
      "['Images', 'Monet']\n"
     ]
    }
   ],
   "source": [
    "#Make the dataset\n",
    "from cycleganstyletransfer.config import DATA_DIR\n",
    "data_dir = DATA_DIR / \"raw\"\n",
    "\n",
    "\n",
    "my_ds_train, my_ds_val = tf.keras.utils.image_dataset_from_directory(\n",
    "    data_dir,\n",
    "    validation_split=0.2,\n",
    "    subset=\"both\",\n",
    "    seed=42,\n",
    "    image_size=(128, 128),\n",
    "    #sbatch_size = 1,\n",
    ")\n",
    "\n",
    "print(my_ds_train.class_names)\n",
    "print(my_ds_val.class_names)\n",
    "#print(\"Class names:\", my_ds_train.class_names)\n",
    "#print(\"Class indices:\", {name: i for i, name in enumerate(my_ds_train.class_names)})"
   ]
  },
  {
   "cell_type": "markdown",
   "metadata": {},
   "source": [
    "## Put the model together"
   ]
  },
  {
   "cell_type": "code",
   "execution_count": 2,
   "metadata": {},
   "outputs": [
    {
     "name": "stdout",
     "output_type": "stream",
     "text": [
      "Model: \"discriminator\"\n",
      "_________________________________________________________________\n",
      " Layer (type)                Output Shape              Param #   \n",
      "=================================================================\n",
      " input_1 (InputLayer)        [(32, 128, 128, 3)]       0         \n",
      "                                                                 \n",
      " conv2d (Conv2D)             (32, 128, 128, 32)        896       \n",
      "                                                                 \n",
      " leaky_re_lu (LeakyReLU)     (32, 128, 128, 32)        0         \n",
      "                                                                 \n",
      " max_pooling2d (MaxPooling2  (32, 64, 64, 32)          0         \n",
      " D)                                                              \n",
      "                                                                 \n",
      " conv2d_1 (Conv2D)           (32, 64, 64, 64)          18496     \n",
      "                                                                 \n",
      " leaky_re_lu_1 (LeakyReLU)   (32, 64, 64, 64)          0         \n",
      "                                                                 \n",
      " max_pooling2d_1 (MaxPoolin  (32, 32, 32, 64)          0         \n",
      " g2D)                                                            \n",
      "                                                                 \n",
      " conv2d_2 (Conv2D)           (32, 32, 32, 128)         73856     \n",
      "                                                                 \n",
      " leaky_re_lu_2 (LeakyReLU)   (32, 32, 32, 128)         0         \n",
      "                                                                 \n",
      " max_pooling2d_2 (MaxPoolin  (32, 16, 16, 128)         0         \n",
      " g2D)                                                            \n",
      "                                                                 \n",
      " conv2d_3 (Conv2D)           (32, 16, 16, 1)           1153      \n",
      "                                                                 \n",
      "=================================================================\n",
      "Total params: 94401 (368.75 KB)\n",
      "Trainable params: 94401 (368.75 KB)\n",
      "Non-trainable params: 0 (0.00 Byte)\n",
      "_________________________________________________________________\n"
     ]
    }
   ],
   "source": [
    "def build_discriminator(input_shape=(128, 128, 3)):\n",
    "    inputs = Input(shape=input_shape, batch_size=32)\n",
    "    \n",
    "    # First layer doesn't use instance normalization\n",
    "    x = Conv2D(32, 3,padding='same')(inputs)\n",
    "    x = LeakyReLU(0.2)(x)\n",
    "    x = MaxPooling2D(2)(x)\n",
    "\n",
    "    x = Conv2D(64, 3,padding='same')(x)\n",
    "    x = LeakyReLU(0.2)(x)\n",
    "    x = MaxPooling2D(2)(x)\n",
    "\n",
    "    x = Conv2D(128, 3,padding='same')(x)\n",
    "    x = LeakyReLU(0.2)(x)\n",
    "    x = MaxPooling2D(2)(x)\n",
    "\n",
    "    x = Conv2D(1, 3, padding='same')(x)\n",
    "\n",
    "    #x = Flatten()(x)\n",
    "    #x = GlobalAveragePooling2D()(x)\n",
    "    #x = Dense(1, activation='sigmoid')(x)\n",
    "    \n",
    "    return Model(inputs, x, name='discriminator')\n",
    "\n",
    "my_discriminator = build_discriminator()\n",
    "my_discriminator.summary()"
   ]
  },
  {
   "cell_type": "code",
   "execution_count": 4,
   "metadata": {},
   "outputs": [],
   "source": [
    "def my_loss(y_true, y_pred):\n",
    "    y_true = tf.cast(y_true, tf.float32)\n",
    "    y_true = tf.reshape(y_true, (-1, 1, 1, 1))#Keep whatever batch number\n",
    "    y_true = tf.broadcast_to(y_true, tf.shape(y_pred))\n",
    "\n",
    "    return keras.losses.binary_crossentropy(y_true, y_pred, from_logits=True)\n"
   ]
  },
  {
   "cell_type": "code",
   "execution_count": 5,
   "metadata": {},
   "outputs": [
    {
     "name": "stdout",
     "output_type": "stream",
     "text": [
      "Epoch 1/3\n",
      "206/206 [==============================] - 76s 364ms/step - loss: 0.7732 - accuracy: 0.8050 - val_loss: 0.5111 - val_accuracy: 0.7675\n",
      "Epoch 2/3\n",
      "206/206 [==============================] - 71s 343ms/step - loss: 0.4658 - accuracy: 0.8328 - val_loss: 0.4396 - val_accuracy: 0.8001\n",
      "Epoch 3/3\n",
      "206/206 [==============================] - 85s 412ms/step - loss: 0.4255 - accuracy: 0.8396 - val_loss: 0.5662 - val_accuracy: 0.8456\n"
     ]
    },
    {
     "data": {
      "text/plain": [
       "<keras.src.callbacks.History at 0x276ca2368f0>"
      ]
     },
     "execution_count": 5,
     "metadata": {},
     "output_type": "execute_result"
    }
   ],
   "source": [
    "from keras.optimizers import Adam\n",
    "\n",
    "my_discriminator.compile(optimizer=Adam(learning_rate=0.0002, beta_1=0.5), loss=my_loss, metrics=['accuracy'])\n",
    "my_discriminator.fit(my_ds_train, validation_data= my_ds_val, epochs=3)"
   ]
  },
  {
   "cell_type": "code",
   "execution_count": null,
   "metadata": {},
   "outputs": [],
   "source": []
  },
  {
   "cell_type": "code",
   "execution_count": null,
   "metadata": {},
   "outputs": [],
   "source": []
  },
  {
   "cell_type": "code",
   "execution_count": null,
   "metadata": {},
   "outputs": [],
   "source": []
  },
  {
   "cell_type": "code",
   "execution_count": null,
   "metadata": {},
   "outputs": [],
   "source": []
  },
  {
   "cell_type": "markdown",
   "metadata": {},
   "source": [
    "## L2 LOSS AND BATCHSIZE 1 (TO REPLICATE CO DOMAIN CLASSIFIER)"
   ]
  },
  {
   "cell_type": "code",
   "execution_count": 3,
   "metadata": {},
   "outputs": [
    {
     "name": "stderr",
     "output_type": "stream",
     "text": [
      "\u001b[32m2025-06-06 19:22:53.461\u001b[0m | \u001b[1mINFO    \u001b[0m | \u001b[36mcycleganstyletransfer.config\u001b[0m:\u001b[36m<module>\u001b[0m:\u001b[36m11\u001b[0m - \u001b[1mPROJ_ROOT path is: C:\\Users\\willi\\Desktop\\AIPortfolio\\CycleGanV2\\cycleganstyletransfer\u001b[0m\n"
     ]
    },
    {
     "name": "stdout",
     "output_type": "stream",
     "text": [
      "Found 8230 files belonging to 2 classes.\n",
      "Using 6584 files for training.\n",
      "Using 1646 files for validation.\n"
     ]
    }
   ],
   "source": [
    "#Make the dataset\n",
    "from cycleganstyletransfer.config import DATA_DIR\n",
    "data_dir = DATA_DIR / \"raw\"\n",
    "\n",
    "\n",
    "my_ds_train, my_ds_val = tf.keras.utils.image_dataset_from_directory(\n",
    "    data_dir,\n",
    "    validation_split=0.2,\n",
    "    subset=\"both\",\n",
    "    seed=42,\n",
    "    image_size=(128, 128),\n",
    "    batch_size = 1,\n",
    ")\n",
    "\n",
    "my_discriminator = build_discriminator()"
   ]
  },
  {
   "cell_type": "code",
   "execution_count": 4,
   "metadata": {},
   "outputs": [],
   "source": [
    "def my_square_loss(y_true, y_pred):\n",
    "    y_true = tf.cast(y_true, tf.float32)\n",
    "    y_true = tf.reshape(y_true, (-1, 1, 1, 1))#Keep whatever batch number\n",
    "    y_true = tf.broadcast_to(y_true, tf.shape(y_pred))\n",
    "\n",
    "    loss = tf.reduce_mean(tf.math.squared_difference(y_true, y_pred))\n",
    "    return loss#keras.losses.binary_crossentropy(y_true, y_pred, from_logits=True)\n"
   ]
  },
  {
   "cell_type": "code",
   "execution_count": 5,
   "metadata": {},
   "outputs": [
    {
     "name": "stdout",
     "output_type": "stream",
     "text": [
      "Epoch 1/3\n"
     ]
    },
    {
     "name": "stdout",
     "output_type": "stream",
     "text": [
      "6584/6584 [==============================] - 235s 36ms/step - loss: 1.4503 - accuracy: 0.7126 - val_loss: 0.1817 - val_accuracy: 0.8365\n",
      "Epoch 2/3\n",
      "6584/6584 [==============================] - 278s 42ms/step - loss: 0.1391 - accuracy: 0.8380 - val_loss: 0.1380 - val_accuracy: 0.8331\n",
      "Epoch 3/3\n",
      "6584/6584 [==============================] - 237s 36ms/step - loss: 0.1238 - accuracy: 0.8517 - val_loss: 0.1187 - val_accuracy: 0.8473\n"
     ]
    },
    {
     "data": {
      "text/plain": [
       "<keras.src.callbacks.History at 0x1ef2ae54250>"
      ]
     },
     "execution_count": 5,
     "metadata": {},
     "output_type": "execute_result"
    }
   ],
   "source": [
    "from keras.optimizers import Adam\n",
    "\n",
    "my_discriminator.compile(optimizer=Adam(learning_rate=0.0002, beta_1=0.5), loss=my_square_loss, metrics=['accuracy'])\n",
    "my_discriminator.fit(my_ds_train, validation_data= my_ds_val, epochs=3)"
   ]
  },
  {
   "cell_type": "code",
   "execution_count": null,
   "metadata": {},
   "outputs": [],
   "source": []
  },
  {
   "cell_type": "code",
   "execution_count": null,
   "metadata": {},
   "outputs": [],
   "source": []
  },
  {
   "cell_type": "code",
   "execution_count": null,
   "metadata": {},
   "outputs": [],
   "source": []
  },
  {
   "cell_type": "code",
   "execution_count": null,
   "metadata": {},
   "outputs": [],
   "source": []
  },
  {
   "cell_type": "code",
   "execution_count": null,
   "metadata": {},
   "outputs": [],
   "source": []
  },
  {
   "cell_type": "code",
   "execution_count": null,
   "metadata": {},
   "outputs": [],
   "source": []
  },
  {
   "cell_type": "code",
   "execution_count": null,
   "metadata": {},
   "outputs": [],
   "source": []
  },
  {
   "cell_type": "code",
   "execution_count": null,
   "metadata": {},
   "outputs": [],
   "source": []
  },
  {
   "cell_type": "code",
   "execution_count": null,
   "metadata": {},
   "outputs": [],
   "source": []
  },
  {
   "cell_type": "code",
   "execution_count": null,
   "metadata": {},
   "outputs": [],
   "source": []
  },
  {
   "cell_type": "code",
   "execution_count": null,
   "metadata": {},
   "outputs": [],
   "source": []
  },
  {
   "cell_type": "code",
   "execution_count": null,
   "metadata": {},
   "outputs": [],
   "source": []
  },
  {
   "cell_type": "code",
   "execution_count": 12,
   "metadata": {},
   "outputs": [
    {
     "name": "stdout",
     "output_type": "stream",
     "text": [
      "(None, 256, 256, 64)\n",
      "(None, 128, 128, 128)\n",
      "(None, 64, 64, 256)\n",
      "(None, 32, 32, 512)\n",
      "(None, 32, 32, 1)\n"
     ]
    }
   ],
   "source": [
    "my_descrim = build_discriminator()"
   ]
  },
  {
   "cell_type": "code",
   "execution_count": 15,
   "metadata": {},
   "outputs": [
    {
     "name": "stdout",
     "output_type": "stream",
     "text": [
      "(1, 1)\n",
      "tf.Tensor([[0.97778535]], shape=(1, 1), dtype=float32)\n"
     ]
    }
   ],
   "source": [
    "m_photo, i_photo = my_data.get_new()\n",
    "\n",
    "test_output = my_descrim(m_photo)\n",
    "print(test_output.shape)\n",
    "print(test_output)"
   ]
  },
  {
   "cell_type": "markdown",
   "metadata": {},
   "source": [
    "## Get a simple training loop together"
   ]
  },
  {
   "cell_type": "code",
   "execution_count": 22,
   "metadata": {},
   "outputs": [],
   "source": [
    "from keras.losses import BinaryCrossentropy\n",
    "\n",
    "my_loss = BinaryCrossentropy(from_logits=False)\n",
    "\n",
    "def discrim_loss(monet_image_output, photo_image_output):\n",
    "\n",
    "    total_loss = 0.5 * (my_loss(monet_image_output, tf.ones_like(monet_image_output)) + my_loss(photo_image_output, tf.zeros_like(photo_image_output)))\n",
    "    return total_loss   \n",
    "\n"
   ]
  },
  {
   "cell_type": "code",
   "execution_count": 23,
   "metadata": {},
   "outputs": [],
   "source": [
    "from keras.optimizers import Adam\n",
    "\n",
    "my_optimizer = Adam()\n"
   ]
  },
  {
   "cell_type": "code",
   "execution_count": 26,
   "metadata": {},
   "outputs": [
    {
     "name": "stdout",
     "output_type": "stream",
     "text": [
      "Epoch 1/1\n",
      "tf.Tensor([[1.]], shape=(1, 1), dtype=float32)\n",
      "tf.Tensor([[1.]], shape=(1, 1), dtype=float32)\n",
      "Iteration 1/10\n",
      "Loss: 7.7125\n",
      "Accuracy on Monet images: 100.00%\n",
      "Accuracy on Photo images: 0.00%\n",
      "Total accuracy: 50.00%\n",
      "\n",
      "tf.Tensor([[1.]], shape=(1, 1), dtype=float32)\n",
      "tf.Tensor([[1.]], shape=(1, 1), dtype=float32)\n",
      "Iteration 2/10\n",
      "Loss: 7.7125\n",
      "Accuracy on Monet images: 100.00%\n",
      "Accuracy on Photo images: 0.00%\n",
      "Total accuracy: 50.00%\n",
      "\n",
      "tf.Tensor([[1.]], shape=(1, 1), dtype=float32)\n",
      "tf.Tensor([[1.]], shape=(1, 1), dtype=float32)\n",
      "Iteration 3/10\n",
      "Loss: 7.7125\n",
      "Accuracy on Monet images: 100.00%\n",
      "Accuracy on Photo images: 0.00%\n",
      "Total accuracy: 50.00%\n",
      "\n",
      "tf.Tensor([[1.]], shape=(1, 1), dtype=float32)\n",
      "tf.Tensor([[1.]], shape=(1, 1), dtype=float32)\n",
      "Iteration 4/10\n",
      "Loss: 7.7125\n",
      "Accuracy on Monet images: 100.00%\n",
      "Accuracy on Photo images: 0.00%\n",
      "Total accuracy: 50.00%\n",
      "\n",
      "tf.Tensor([[1.]], shape=(1, 1), dtype=float32)\n",
      "tf.Tensor([[1.]], shape=(1, 1), dtype=float32)\n",
      "Iteration 5/10\n",
      "Loss: 7.7125\n",
      "Accuracy on Monet images: 100.00%\n",
      "Accuracy on Photo images: 0.00%\n",
      "Total accuracy: 50.00%\n",
      "\n",
      "tf.Tensor([[1.]], shape=(1, 1), dtype=float32)\n",
      "tf.Tensor([[1.]], shape=(1, 1), dtype=float32)\n",
      "Iteration 6/10\n",
      "Loss: 7.7125\n",
      "Accuracy on Monet images: 100.00%\n",
      "Accuracy on Photo images: 0.00%\n",
      "Total accuracy: 50.00%\n",
      "\n",
      "tf.Tensor([[1.]], shape=(1, 1), dtype=float32)\n",
      "tf.Tensor([[1.]], shape=(1, 1), dtype=float32)\n",
      "Iteration 7/10\n",
      "Loss: 7.7125\n",
      "Accuracy on Monet images: 100.00%\n",
      "Accuracy on Photo images: 0.00%\n",
      "Total accuracy: 50.00%\n",
      "\n",
      "tf.Tensor([[1.]], shape=(1, 1), dtype=float32)\n",
      "tf.Tensor([[1.]], shape=(1, 1), dtype=float32)\n",
      "Iteration 8/10\n",
      "Loss: 7.7125\n",
      "Accuracy on Monet images: 100.00%\n",
      "Accuracy on Photo images: 0.00%\n",
      "Total accuracy: 50.00%\n",
      "\n",
      "tf.Tensor([[1.]], shape=(1, 1), dtype=float32)\n",
      "tf.Tensor([[1.]], shape=(1, 1), dtype=float32)\n",
      "Iteration 9/10\n",
      "Loss: 7.7125\n",
      "Accuracy on Monet images: 100.00%\n",
      "Accuracy on Photo images: 0.00%\n",
      "Total accuracy: 50.00%\n",
      "\n",
      "tf.Tensor([[1.]], shape=(1, 1), dtype=float32)\n",
      "tf.Tensor([[1.]], shape=(1, 1), dtype=float32)\n",
      "Iteration 10/10\n",
      "Loss: 7.7125\n",
      "Accuracy on Monet images: 100.00%\n",
      "Accuracy on Photo images: 0.00%\n",
      "Total accuracy: 50.00%\n",
      "\n"
     ]
    }
   ],
   "source": [
    "EPOCHS = 1\n",
    "EPOCH_LENGTH = 10\n",
    "\n",
    "for epoch in range(EPOCHS):\n",
    "    print(f\"Epoch {epoch+1}/{EPOCHS}\")\n",
    "    for iteration in range(EPOCH_LENGTH):\n",
    "        m_photo, i_photo = my_data.get_new()\n",
    "\n",
    "        with tf.GradientTape() as tape:\n",
    "            monet_output = my_descrim(m_photo)\n",
    "            photo_output = my_descrim(i_photo)\n",
    "            print(monet_output)\n",
    "            print(photo_output)\n",
    "\n",
    "            loss = discrim_loss(monet_output, photo_output)\n",
    "\n",
    "        grads = tape.gradient(loss, my_descrim.trainable_variables)\n",
    "        my_optimizer.apply_gradients(zip(grads, my_descrim.trainable_variables))\n",
    "    \n",
    "        # Calculate accuracy\n",
    "        monet_accuracy = tf.reduce_mean(tf.cast(monet_output > 0.5, tf.float32))\n",
    "        photo_accuracy = tf.reduce_mean(tf.cast(photo_output < 0.5, tf.float32))\n",
    "        total_accuracy = 0.5 * (monet_accuracy + photo_accuracy)\n",
    "\n",
    "        print(f\"Iteration {iteration+1}/{EPOCH_LENGTH}\")\n",
    "        print(f\"Loss: {loss:.4f}\")\n",
    "        print(f\"Accuracy on Monet images: {monet_accuracy:.2%}\")\n",
    "        print(f\"Accuracy on Photo images: {photo_accuracy:.2%}\")\n",
    "        print(f\"Total accuracy: {total_accuracy:.2%}\\n\")\n",
    "\n",
    "#print(my_descrim.summary())"
   ]
  },
  {
   "cell_type": "code",
   "execution_count": null,
   "metadata": {},
   "outputs": [],
   "source": []
  },
  {
   "cell_type": "code",
   "execution_count": null,
   "metadata": {},
   "outputs": [],
   "source": []
  },
  {
   "cell_type": "code",
   "execution_count": null,
   "metadata": {},
   "outputs": [],
   "source": []
  },
  {
   "cell_type": "code",
   "execution_count": null,
   "metadata": {},
   "outputs": [],
   "source": []
  }
 ],
 "metadata": {
  "kernelspec": {
   "display_name": "tf310",
   "language": "python",
   "name": "python3"
  },
  "language_info": {
   "codemirror_mode": {
    "name": "ipython",
    "version": 3
   },
   "file_extension": ".py",
   "mimetype": "text/x-python",
   "name": "python",
   "nbconvert_exporter": "python",
   "pygments_lexer": "ipython3",
   "version": "3.10.16"
  }
 },
 "nbformat": 4,
 "nbformat_minor": 2
}
